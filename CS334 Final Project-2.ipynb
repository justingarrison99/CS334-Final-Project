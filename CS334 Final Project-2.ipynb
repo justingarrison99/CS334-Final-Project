{
 "cells": [
  {
   "cell_type": "markdown",
   "metadata": {},
   "source": [
    "# Final Project\n"
   ]
  },
  {
   "cell_type": "markdown",
   "metadata": {},
   "source": [
    "* Read in Seattle Crime Dataset"
   ]
  },
  {
   "cell_type": "code",
   "execution_count": 1,
   "metadata": {
    "scrolled": true
   },
   "outputs": [],
   "source": [
    "import pandas as pd\n",
    "file_name = 'SPD_Reports.csv'\n",
    "crime_df = pd.read_csv(file_name)"
   ]
  },
  {
   "cell_type": "markdown",
   "metadata": {},
   "source": [
    "* Drop Irrelevant Columns ('Offense Type', 'Offense End Date', 'Block', 'District', '2000 Census Tract', 'Longitude',     'Latitude', 'Report Date')\n",
    "\n",
    "* Reorder Columns to read 'Offense Start Date' -> 'Offense Description' -> 'Beat'\n",
    "\n",
    "* Rename 'Offense Start Date' to 'Offense Date'; just for readability\n"
   ]
  },
  {
   "cell_type": "code",
   "execution_count": 2,
   "metadata": {},
   "outputs": [],
   "source": [
    "crime_df=crime_df.drop(columns=['Offense Type', 'Offense End Date', 'Block', 'District', '2000 Census Tract', 'Longitude', 'Latitude', 'Report Date'])\n",
    "crime_df = crime_df[['Offense Start Date', 'Offense Description', 'Beat']]\n",
    "crime_df.rename(columns = {'Offense Start Date':'Offense Date'}, inplace = True) "
   ]
  },
  {
   "cell_type": "markdown",
   "metadata": {},
   "source": [
    "* Convert 'Offense Date' to datetime\n",
    "* Sort crime_df by ascending date (2007 - 2016("
   ]
  },
  {
   "cell_type": "code",
   "execution_count": 3,
   "metadata": {},
   "outputs": [],
   "source": [
    "crime_df['Offense Date'] = pd.to_datetime(crime_df['Offense Date'])\n",
    "crime_df = crime_df.sort_values(by='Offense Date')"
   ]
  },
  {
   "cell_type": "markdown",
   "metadata": {},
   "source": [
    "* Read in dataset from \"Did in rain in Seattle?\" \n",
    "\n",
    "* Convert Date feature to datetime object\n",
    "\n",
    "* Convert Rain feature to bool object"
   ]
  },
  {
   "cell_type": "code",
   "execution_count": 4,
   "metadata": {
    "scrolled": true
   },
   "outputs": [],
   "source": [
    "f_name = 'seattleWeather_1948-2017.csv'\n",
    "weather_df = pd.read_csv(f_name)\n",
    "weather_df['DATE'] = pd.to_datetime(weather_df['DATE'])\n",
    "weather_df['RAIN'] = weather_df['RAIN'].astype('bool')"
   ]
  },
  {
   "cell_type": "markdown",
   "metadata": {},
   "source": [
    "* Filter both the crime_df and weather_df by year (2007 - 2016)"
   ]
  },
  {
   "cell_type": "code",
   "execution_count": 5,
   "metadata": {},
   "outputs": [],
   "source": [
    "weather_df = weather_df[(weather_df['DATE'].dt.year >= 2007) & \n",
    "                        ((weather_df['DATE'].dt.year <= 2016) & (weather_df['DATE'].dt.month <= 9) & (weather_df['DATE'].dt.day <= 19))]\n",
    "crime_df = crime_df[(crime_df['Offense Date'].dt.year >= 2007) & \n",
    "                    ((crime_df['Offense Date'].dt.year <= 2017))]\n"
   ]
  },
  {
   "cell_type": "markdown",
   "metadata": {},
   "source": [
    "* crime_df['Offense Date'] had a time value attached to it; first line of code just drops the time but keeps the date (So that it's easier to work with the weather_df)\n",
    "\n",
    "* Index of crime_df is changed to the date of incident\n",
    "\n",
    "* Index of weather_df is also changed to the date feature \n",
    "\n",
    "* Join the two dataframes together according to index (the date) \n",
    "\n",
    "    So if the dates match, the values from weather_df are assigned correctly "
   ]
  },
  {
   "cell_type": "code",
   "execution_count": 6,
   "metadata": {},
   "outputs": [],
   "source": [
    "crime_df['Offense Date'] = crime_df['Offense Date'].dt.date\n",
    "crime_df = crime_df.set_index('Offense Date')\n",
    "weather_df = weather_df.set_index('DATE')\n",
    "new_crime_df = crime_df.join(weather_df, lsuffix='_caller', rsuffix='_other')"
   ]
  },
  {
   "cell_type": "code",
   "execution_count": 7,
   "metadata": {
    "scrolled": true
   },
   "outputs": [
    {
     "data": {
      "text/html": [
       "<div>\n",
       "<style scoped>\n",
       "    .dataframe tbody tr th:only-of-type {\n",
       "        vertical-align: middle;\n",
       "    }\n",
       "\n",
       "    .dataframe tbody tr th {\n",
       "        vertical-align: top;\n",
       "    }\n",
       "\n",
       "    .dataframe thead th {\n",
       "        text-align: right;\n",
       "    }\n",
       "</style>\n",
       "<table border=\"1\" class=\"dataframe\">\n",
       "  <thead>\n",
       "    <tr style=\"text-align: right;\">\n",
       "      <th></th>\n",
       "      <th>Offense Description</th>\n",
       "      <th>Beat</th>\n",
       "      <th>PRCP</th>\n",
       "      <th>TMAX</th>\n",
       "      <th>TMIN</th>\n",
       "      <th>RAIN</th>\n",
       "    </tr>\n",
       "  </thead>\n",
       "  <tbody>\n",
       "    <tr>\n",
       "      <th>2007-01-01</th>\n",
       "      <td>FRAUD</td>\n",
       "      <td>F2</td>\n",
       "      <td>0.41</td>\n",
       "      <td>48.0</td>\n",
       "      <td>34.0</td>\n",
       "      <td>True</td>\n",
       "    </tr>\n",
       "    <tr>\n",
       "      <th>2007-01-01</th>\n",
       "      <td>VEHICLE THEFT</td>\n",
       "      <td>J1</td>\n",
       "      <td>0.41</td>\n",
       "      <td>48.0</td>\n",
       "      <td>34.0</td>\n",
       "      <td>True</td>\n",
       "    </tr>\n",
       "    <tr>\n",
       "      <th>2007-01-01</th>\n",
       "      <td>FRAUD</td>\n",
       "      <td>F2</td>\n",
       "      <td>0.41</td>\n",
       "      <td>48.0</td>\n",
       "      <td>34.0</td>\n",
       "      <td>True</td>\n",
       "    </tr>\n",
       "    <tr>\n",
       "      <th>2007-01-01</th>\n",
       "      <td>OTHER PROPERTY</td>\n",
       "      <td>G2</td>\n",
       "      <td>0.41</td>\n",
       "      <td>48.0</td>\n",
       "      <td>34.0</td>\n",
       "      <td>True</td>\n",
       "    </tr>\n",
       "    <tr>\n",
       "      <th>2007-01-01</th>\n",
       "      <td>FRAUD</td>\n",
       "      <td>E1</td>\n",
       "      <td>0.41</td>\n",
       "      <td>48.0</td>\n",
       "      <td>34.0</td>\n",
       "      <td>True</td>\n",
       "    </tr>\n",
       "  </tbody>\n",
       "</table>\n",
       "</div>"
      ],
      "text/plain": [
       "           Offense Description Beat  PRCP  TMAX  TMIN  RAIN\n",
       "2007-01-01               FRAUD   F2  0.41  48.0  34.0  True\n",
       "2007-01-01       VEHICLE THEFT   J1  0.41  48.0  34.0  True\n",
       "2007-01-01               FRAUD   F2  0.41  48.0  34.0  True\n",
       "2007-01-01      OTHER PROPERTY   G2  0.41  48.0  34.0  True\n",
       "2007-01-01               FRAUD   E1  0.41  48.0  34.0  True"
      ]
     },
     "execution_count": 7,
     "metadata": {},
     "output_type": "execute_result"
    }
   ],
   "source": [
    "new_crime_df.head()"
   ]
  },
  {
   "cell_type": "markdown",
   "metadata": {},
   "source": [
    "Below I am getting the total number of Offenses on any given day and adding it as a column to the new_crime_df"
   ]
  },
  {
   "cell_type": "markdown",
   "metadata": {},
   "source": [
    "."
   ]
  },
  {
   "cell_type": "markdown",
   "metadata": {},
   "source": [
    "."
   ]
  },
  {
   "cell_type": "code",
   "execution_count": 8,
   "metadata": {},
   "outputs": [],
   "source": [
    "df = new_crime_df"
   ]
  },
  {
   "cell_type": "markdown",
   "metadata": {},
   "source": [
    "This gets the count of each index, since each row is a crime if there's multiple indexes with the same date those get summed together for the total number of offenses for the day"
   ]
  },
  {
   "cell_type": "code",
   "execution_count": 9,
   "metadata": {},
   "outputs": [],
   "source": [
    "index_count = pd.Index(df.index).value_counts()\n",
    "df = index_count.to_frame().sort_index()"
   ]
  },
  {
   "cell_type": "markdown",
   "metadata": {},
   "source": [
    "Above produces a series which we then convert to a dataframe and sort the index into ascending order by date"
   ]
  },
  {
   "cell_type": "markdown",
   "metadata": {},
   "source": [
    "Now that the new_crime_df and this df have a similar index we can join the columns from both together"
   ]
  },
  {
   "cell_type": "code",
   "execution_count": 10,
   "metadata": {},
   "outputs": [],
   "source": [
    "new_crime_df = new_crime_df.join(df, lsuffix='_caller', rsuffix='_other')"
   ]
  },
  {
   "cell_type": "markdown",
   "metadata": {},
   "source": [
    "Below just changes the name of the columns for clarity"
   ]
  },
  {
   "cell_type": "code",
   "execution_count": 11,
   "metadata": {},
   "outputs": [],
   "source": [
    "new_crime_df.columns = ['Offense Description', 'Beat', 'PRCP', 'TMAX', 'TMIN', 'RAIN', '# of Offenses in day']"
   ]
  },
  {
   "cell_type": "code",
   "execution_count": 12,
   "metadata": {
    "scrolled": true
   },
   "outputs": [
    {
     "data": {
      "text/html": [
       "<div>\n",
       "<style scoped>\n",
       "    .dataframe tbody tr th:only-of-type {\n",
       "        vertical-align: middle;\n",
       "    }\n",
       "\n",
       "    .dataframe tbody tr th {\n",
       "        vertical-align: top;\n",
       "    }\n",
       "\n",
       "    .dataframe thead th {\n",
       "        text-align: right;\n",
       "    }\n",
       "</style>\n",
       "<table border=\"1\" class=\"dataframe\">\n",
       "  <thead>\n",
       "    <tr style=\"text-align: right;\">\n",
       "      <th></th>\n",
       "      <th>Offense Description</th>\n",
       "      <th>Beat</th>\n",
       "      <th>PRCP</th>\n",
       "      <th>TMAX</th>\n",
       "      <th>TMIN</th>\n",
       "      <th>RAIN</th>\n",
       "      <th># of Offenses in day</th>\n",
       "    </tr>\n",
       "  </thead>\n",
       "  <tbody>\n",
       "    <tr>\n",
       "      <th>2007-01-01</th>\n",
       "      <td>FRAUD</td>\n",
       "      <td>F2</td>\n",
       "      <td>0.41</td>\n",
       "      <td>48.0</td>\n",
       "      <td>34.0</td>\n",
       "      <td>True</td>\n",
       "      <td>46</td>\n",
       "    </tr>\n",
       "    <tr>\n",
       "      <th>2007-01-01</th>\n",
       "      <td>VEHICLE THEFT</td>\n",
       "      <td>J1</td>\n",
       "      <td>0.41</td>\n",
       "      <td>48.0</td>\n",
       "      <td>34.0</td>\n",
       "      <td>True</td>\n",
       "      <td>46</td>\n",
       "    </tr>\n",
       "    <tr>\n",
       "      <th>2007-01-01</th>\n",
       "      <td>FRAUD</td>\n",
       "      <td>F2</td>\n",
       "      <td>0.41</td>\n",
       "      <td>48.0</td>\n",
       "      <td>34.0</td>\n",
       "      <td>True</td>\n",
       "      <td>46</td>\n",
       "    </tr>\n",
       "    <tr>\n",
       "      <th>2007-01-01</th>\n",
       "      <td>OTHER PROPERTY</td>\n",
       "      <td>G2</td>\n",
       "      <td>0.41</td>\n",
       "      <td>48.0</td>\n",
       "      <td>34.0</td>\n",
       "      <td>True</td>\n",
       "      <td>46</td>\n",
       "    </tr>\n",
       "    <tr>\n",
       "      <th>2007-01-01</th>\n",
       "      <td>FRAUD</td>\n",
       "      <td>E1</td>\n",
       "      <td>0.41</td>\n",
       "      <td>48.0</td>\n",
       "      <td>34.0</td>\n",
       "      <td>True</td>\n",
       "      <td>46</td>\n",
       "    </tr>\n",
       "    <tr>\n",
       "      <th>...</th>\n",
       "      <td>...</td>\n",
       "      <td>...</td>\n",
       "      <td>...</td>\n",
       "      <td>...</td>\n",
       "      <td>...</td>\n",
       "      <td>...</td>\n",
       "      <td>...</td>\n",
       "    </tr>\n",
       "    <tr>\n",
       "      <th>2016-09-19</th>\n",
       "      <td>ASSAULT</td>\n",
       "      <td>C3</td>\n",
       "      <td>0.08</td>\n",
       "      <td>68.0</td>\n",
       "      <td>53.0</td>\n",
       "      <td>True</td>\n",
       "      <td>13</td>\n",
       "    </tr>\n",
       "    <tr>\n",
       "      <th>2016-09-19</th>\n",
       "      <td>OTHER PROPERTY</td>\n",
       "      <td>U3</td>\n",
       "      <td>0.08</td>\n",
       "      <td>68.0</td>\n",
       "      <td>53.0</td>\n",
       "      <td>True</td>\n",
       "      <td>13</td>\n",
       "    </tr>\n",
       "    <tr>\n",
       "      <th>2016-09-19</th>\n",
       "      <td>SHOPLIFTING</td>\n",
       "      <td>L3</td>\n",
       "      <td>0.08</td>\n",
       "      <td>68.0</td>\n",
       "      <td>53.0</td>\n",
       "      <td>True</td>\n",
       "      <td>13</td>\n",
       "    </tr>\n",
       "    <tr>\n",
       "      <th>2016-09-19</th>\n",
       "      <td>ASSAULT</td>\n",
       "      <td>U2</td>\n",
       "      <td>0.08</td>\n",
       "      <td>68.0</td>\n",
       "      <td>53.0</td>\n",
       "      <td>True</td>\n",
       "      <td>13</td>\n",
       "    </tr>\n",
       "    <tr>\n",
       "      <th>2016-09-19</th>\n",
       "      <td>ASSAULT</td>\n",
       "      <td>E2</td>\n",
       "      <td>0.08</td>\n",
       "      <td>68.0</td>\n",
       "      <td>53.0</td>\n",
       "      <td>True</td>\n",
       "      <td>13</td>\n",
       "    </tr>\n",
       "  </tbody>\n",
       "</table>\n",
       "<p>683720 rows × 7 columns</p>\n",
       "</div>"
      ],
      "text/plain": [
       "           Offense Description Beat  PRCP  TMAX  TMIN  RAIN  \\\n",
       "2007-01-01               FRAUD   F2  0.41  48.0  34.0  True   \n",
       "2007-01-01       VEHICLE THEFT   J1  0.41  48.0  34.0  True   \n",
       "2007-01-01               FRAUD   F2  0.41  48.0  34.0  True   \n",
       "2007-01-01      OTHER PROPERTY   G2  0.41  48.0  34.0  True   \n",
       "2007-01-01               FRAUD   E1  0.41  48.0  34.0  True   \n",
       "...                        ...  ...   ...   ...   ...   ...   \n",
       "2016-09-19             ASSAULT   C3  0.08  68.0  53.0  True   \n",
       "2016-09-19      OTHER PROPERTY   U3  0.08  68.0  53.0  True   \n",
       "2016-09-19         SHOPLIFTING   L3  0.08  68.0  53.0  True   \n",
       "2016-09-19             ASSAULT   U2  0.08  68.0  53.0  True   \n",
       "2016-09-19             ASSAULT   E2  0.08  68.0  53.0  True   \n",
       "\n",
       "            # of Offenses in day  \n",
       "2007-01-01                    46  \n",
       "2007-01-01                    46  \n",
       "2007-01-01                    46  \n",
       "2007-01-01                    46  \n",
       "2007-01-01                    46  \n",
       "...                          ...  \n",
       "2016-09-19                    13  \n",
       "2016-09-19                    13  \n",
       "2016-09-19                    13  \n",
       "2016-09-19                    13  \n",
       "2016-09-19                    13  \n",
       "\n",
       "[683720 rows x 7 columns]"
      ]
     },
     "execution_count": 12,
     "metadata": {},
     "output_type": "execute_result"
    }
   ],
   "source": [
    "new_crime_df"
   ]
  },
  {
   "cell_type": "markdown",
   "metadata": {},
   "source": [
    "Below I'm creating another dataframe execept this df is downsampled to just be the rain info and number of offenses per day"
   ]
  },
  {
   "cell_type": "code",
   "execution_count": 13,
   "metadata": {},
   "outputs": [
    {
     "data": {
      "text/html": [
       "<div>\n",
       "<style scoped>\n",
       "    .dataframe tbody tr th:only-of-type {\n",
       "        vertical-align: middle;\n",
       "    }\n",
       "\n",
       "    .dataframe tbody tr th {\n",
       "        vertical-align: top;\n",
       "    }\n",
       "\n",
       "    .dataframe thead th {\n",
       "        text-align: right;\n",
       "    }\n",
       "</style>\n",
       "<table border=\"1\" class=\"dataframe\">\n",
       "  <thead>\n",
       "    <tr style=\"text-align: right;\">\n",
       "      <th></th>\n",
       "      <th>PRCP</th>\n",
       "      <th>TMAX</th>\n",
       "      <th>TMIN</th>\n",
       "      <th># of Offenses in day</th>\n",
       "    </tr>\n",
       "  </thead>\n",
       "  <tbody>\n",
       "    <tr>\n",
       "      <th>2007-01-01</th>\n",
       "      <td>0.41</td>\n",
       "      <td>48.0</td>\n",
       "      <td>34.0</td>\n",
       "      <td>46.0</td>\n",
       "    </tr>\n",
       "    <tr>\n",
       "      <th>2007-01-02</th>\n",
       "      <td>NaN</td>\n",
       "      <td>NaN</td>\n",
       "      <td>NaN</td>\n",
       "      <td>NaN</td>\n",
       "    </tr>\n",
       "    <tr>\n",
       "      <th>2007-01-03</th>\n",
       "      <td>NaN</td>\n",
       "      <td>NaN</td>\n",
       "      <td>NaN</td>\n",
       "      <td>NaN</td>\n",
       "    </tr>\n",
       "    <tr>\n",
       "      <th>2007-01-04</th>\n",
       "      <td>0.15</td>\n",
       "      <td>42.0</td>\n",
       "      <td>30.0</td>\n",
       "      <td>3.0</td>\n",
       "    </tr>\n",
       "    <tr>\n",
       "      <th>2007-01-05</th>\n",
       "      <td>0.77</td>\n",
       "      <td>43.0</td>\n",
       "      <td>31.0</td>\n",
       "      <td>3.0</td>\n",
       "    </tr>\n",
       "    <tr>\n",
       "      <th>...</th>\n",
       "      <td>...</td>\n",
       "      <td>...</td>\n",
       "      <td>...</td>\n",
       "      <td>...</td>\n",
       "    </tr>\n",
       "    <tr>\n",
       "      <th>2016-09-15</th>\n",
       "      <td>0.00</td>\n",
       "      <td>72.0</td>\n",
       "      <td>52.0</td>\n",
       "      <td>264.0</td>\n",
       "    </tr>\n",
       "    <tr>\n",
       "      <th>2016-09-16</th>\n",
       "      <td>0.00</td>\n",
       "      <td>74.0</td>\n",
       "      <td>52.0</td>\n",
       "      <td>213.0</td>\n",
       "    </tr>\n",
       "    <tr>\n",
       "      <th>2016-09-17</th>\n",
       "      <td>0.22</td>\n",
       "      <td>67.0</td>\n",
       "      <td>57.0</td>\n",
       "      <td>192.0</td>\n",
       "    </tr>\n",
       "    <tr>\n",
       "      <th>2016-09-18</th>\n",
       "      <td>0.00</td>\n",
       "      <td>68.0</td>\n",
       "      <td>54.0</td>\n",
       "      <td>117.0</td>\n",
       "    </tr>\n",
       "    <tr>\n",
       "      <th>2016-09-19</th>\n",
       "      <td>0.08</td>\n",
       "      <td>68.0</td>\n",
       "      <td>53.0</td>\n",
       "      <td>13.0</td>\n",
       "    </tr>\n",
       "  </tbody>\n",
       "</table>\n",
       "<p>3550 rows × 4 columns</p>\n",
       "</div>"
      ],
      "text/plain": [
       "            PRCP  TMAX  TMIN  # of Offenses in day\n",
       "2007-01-01  0.41  48.0  34.0                  46.0\n",
       "2007-01-02   NaN   NaN   NaN                   NaN\n",
       "2007-01-03   NaN   NaN   NaN                   NaN\n",
       "2007-01-04  0.15  42.0  30.0                   3.0\n",
       "2007-01-05  0.77  43.0  31.0                   3.0\n",
       "...          ...   ...   ...                   ...\n",
       "2016-09-15  0.00  72.0  52.0                 264.0\n",
       "2016-09-16  0.00  74.0  52.0                 213.0\n",
       "2016-09-17  0.22  67.0  57.0                 192.0\n",
       "2016-09-18  0.00  68.0  54.0                 117.0\n",
       "2016-09-19  0.08  68.0  53.0                  13.0\n",
       "\n",
       "[3550 rows x 4 columns]"
      ]
     },
     "execution_count": 13,
     "metadata": {},
     "output_type": "execute_result"
    }
   ],
   "source": [
    "perDay_df = new_crime_df.resample('D').mean()\n",
    "perDay_df"
   ]
  },
  {
   "cell_type": "code",
   "execution_count": null,
   "metadata": {},
   "outputs": [],
   "source": []
  }
 ],
 "metadata": {
  "kernelspec": {
   "display_name": "Python 3",
   "language": "python",
   "name": "python3"
  },
  "language_info": {
   "codemirror_mode": {
    "name": "ipython",
    "version": 3
   },
   "file_extension": ".py",
   "mimetype": "text/x-python",
   "name": "python",
   "nbconvert_exporter": "python",
   "pygments_lexer": "ipython3",
   "version": "3.8.2"
  }
 },
 "nbformat": 4,
 "nbformat_minor": 4
}
